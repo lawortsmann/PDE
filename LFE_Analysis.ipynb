{
 "cells": [
  {
   "cell_type": "code",
   "execution_count": null,
   "metadata": {
    "collapsed": false
   },
   "outputs": [],
   "source": [
    "import numpy as np\n",
    "import scipy.sparse.linalg as sla\n",
    "import matplotlib.pyplot as plt\n",
    "import refine_mesh\n",
    "from time import time\n",
    "from mesh_neu import read_neu\n",
    "from LagrangeFE import *"
   ]
  },
  {
   "cell_type": "markdown",
   "metadata": {},
   "source": [
    "Define the Poisson problem on a region $\\Omega$:\n",
    "$$ −\\nabla \\cdot \\kappa(x, y) \\, \\nabla u(x, y) = f(x, x) $$\n",
    "and $ u(x, y) = g(x, y) $ on $\\partial \\Omega$"
   ]
  },
  {
   "cell_type": "code",
   "execution_count": null,
   "metadata": {
    "collapsed": true
   },
   "outputs": [],
   "source": [
    "def f(x, y):\n",
    "    # return 0\n",
    "    if x**2 + y**2 > 0.25**2:\n",
    "        return 0.0\n",
    "    else:\n",
    "        return 25.0\n",
    "\n",
    "def kappa(x, y):\n",
    "    # return 1\n",
    "    if x**2 + y**2 > 0.25**2:\n",
    "        return 0.1\n",
    "    else:\n",
    "        return 1.0\n",
    "\n",
    "def g(x, y, tol=1e-12):\n",
    "    if abs(y + 1) < tol:\n",
    "        return 10.0 * (1 - x**2)\n",
    "    else:\n",
    "        return 0.0"
   ]
  },
  {
   "cell_type": "code",
   "execution_count": null,
   "metadata": {
    "collapsed": true
   },
   "outputs": [],
   "source": [
    "# Import a mesh\n",
    "V, E = np.loadtxt('mesh.v'), np.loadtxt('mesh.e', dtype=int)\n",
    "# V, E = refine_mesh.refine2dtri(V, E)"
   ]
  },
  {
   "cell_type": "code",
   "execution_count": null,
   "metadata": {
    "collapsed": false
   },
   "outputs": [],
   "source": [
    "# Linear LFE\n",
    "print('------------  Linear  -----------')\n",
    "print()\n",
    "t0 = time()\n",
    "LinearSolver = LinearLFE(V, E, f, kappa)\n",
    "LinearSolver.integrator = quadD1S1\n",
    "t1 = time()\n",
    "AL, bL = LinearSolver.assembleMatrix()\n",
    "t2 = time()\n",
    "AL, bL = LinearSolver.implimentBoundary(AL, bL, g)\n",
    "t3 = time()\n",
    "uL = LinearSolver.solve(AL, bL)\n",
    "t4 = time()\n",
    "print( '     Timing:     ' )\n",
    "print( 'Precompute Mesh:     ', round(1000 * (t1 - t0), 1) )\n",
    "print( 'Assembly:            ', round(1000 * (t2 - t1), 1) )\n",
    "print( 'Boundary Conditions: ', round(1000 * (t3 - t2), 1) )\n",
    "print( 'Solving Matrix:      ', round(1000 * (t4 - t3), 1) )\n",
    "print( 'Total:               ', round(1000 * (t4 - t0), 1) )\n",
    "print('')\n",
    "conda = sla.lsmr(AL, bL)[-2]\n",
    "sparsity = 100 * (AL.nnz / (AL.shape[0] * AL.shape[1]))\n",
    "print( '     Matrix Sparsity:     ' )\n",
    "print( 'Nonzero Elements: ', AL.nnz )\n",
    "print( 'Sparsity:         ', round(sparsity, 3) )\n",
    "print( 'Condition Number: ', round(conda, 3))\n",
    "# plot\n",
    "fig = plt.figure(figsize=(6, 5))\n",
    "plt.title('Linear Solution')\n",
    "plt.triplot(V[:, 0], V[:, 1], E, 'k-', lw=0.25, ms=0)\n",
    "plt.tripcolor(V[:, 0], V[:, 1], E, uL, shading='gouraud')\n",
    "plt.colorbar()\n",
    "plt.savefig('Linear.png', transparent=True, dpi=200, bbox_inches='tight')\n",
    "plt.show()"
   ]
  },
  {
   "cell_type": "code",
   "execution_count": null,
   "metadata": {
    "collapsed": false
   },
   "outputs": [],
   "source": [
    "# Quadratic LFE\n",
    "print('----------  Quadratic  ----------')\n",
    "print()\n",
    "t0 = time()\n",
    "# initializes the computational mesh and finds the boundary\n",
    "QuadraticSolver = QuadraticLFE(V, E, f, kappa)\n",
    "t1 = time()\n",
    "# assembles the sparse matrix\n",
    "AQ, bQ = QuadraticSolver.assembleMatrix()\n",
    "t2 = time()\n",
    "# impliments the boundry conditions on the sparse matrix\n",
    "AQ, bQ = QuadraticSolver.implimentBoundary(AQ, bQ, g)\n",
    "t3 = time()\n",
    "# solves the linear problem\n",
    "uQ = QuadraticSolver.solve(AQ, bQ)\n",
    "t4 = time()\n",
    "print( '     Timing:     ' )\n",
    "print( 'Precompute Mesh:     ', round(1000 * (t1 - t0), 1) )\n",
    "print( 'Assembly:            ', round(1000 * (t2 - t1), 1) )\n",
    "print( 'Boundary Conditions: ', round(1000 * (t3 - t2), 1) )\n",
    "print( 'Solving Matrix:      ', round(1000 * (t4 - t3), 1) )\n",
    "print( 'Total:               ', round(1000 * (t4 - t0), 1) )\n",
    "print('')\n",
    "# the condition number of the matrix\n",
    "conda = sla.lsmr(AQ, bQ)[-2]\n",
    "# percent of non-zero entries\n",
    "sparsity = 100 * (AQ.nnz / (AQ.shape[0] * AQ.shape[1]))\n",
    "print( '     Matrix Sparsity:     ' )\n",
    "print( 'Nonzero Elements: ', AQ.nnz )\n",
    "print( 'Sparsity:         ', round(sparsity, 3) )\n",
    "print( 'Condition Number: ', round(conda, 3))\n",
    "# plot\n",
    "fig = plt.figure(figsize=(6, 5))\n",
    "plt.title('Quadratic Solution')\n",
    "plt.triplot(V[:, 0], V[:, 1], E, 'k-', lw=0.25, ms=0)\n",
    "plt.tripcolor(V[:, 0], V[:, 1], E, uQ[:len(V)], shading='gouraud')\n",
    "plt.colorbar()\n",
    "plt.savefig('Quadratic.png', transparent=True, dpi=200, bbox_inches='tight')\n",
    "plt.show()"
   ]
  },
  {
   "cell_type": "code",
   "execution_count": null,
   "metadata": {
    "collapsed": false
   },
   "outputs": [],
   "source": [
    "muL = np.mean(uL[E], 1)\n",
    "muQ = np.mean(uQ[E], 1)\n",
    "eA = np.array([ getArea(*V[ei]) for ei in E])\n",
    "err = np.sqrt(np.sum(np.abs( eA * (muL - muQ)**2 )))\n",
    "L2L = np.sqrt(np.sum(np.abs( eA * (muL)**2 )))\n",
    "L2Q = np.sqrt(np.sum(np.abs( eA * (muQ)**2 )))\n",
    "errP = 100 * (2 * err) / (L2L + L2Q)\n",
    "print( '----------  Error  ----------' )\n",
    "print( 'L2 Norm of Difference: ', round(err, 4) )\n",
    "print( 'Percent Difference:    ', round(errP, 2) )\n",
    "# plot difference\n",
    "uQE = uQ[:len(V)]\n",
    "uD = np.abs(uL - uQE)\n",
    "fig = plt.figure(figsize=(6, 5))\n",
    "plt.title('Difference Between Linear and Quadratic')\n",
    "plt.triplot(V[:, 0], V[:, 1], E, 'k-', lw=0.25, ms=0)\n",
    "plt.tripcolor(V[:, 0], V[:, 1], E, uD)\n",
    "plt.colorbar()\n",
    "plt.savefig('Difference.png', transparent=True, dpi=200, bbox_inches='tight')\n",
    "plt.show()"
   ]
  },
  {
   "cell_type": "code",
   "execution_count": null,
   "metadata": {
    "collapsed": false
   },
   "outputs": [],
   "source": [
    "def exact(x, y, tol=1e-6):\n",
    "    x, y, n, u = x + 1, y + 1, 1, 0\n",
    "    while n < 200:\n",
    "        sln_a = 160 * (1 - (-1)**n)\n",
    "        sln_b = np.sin(n * np.pi * x / 2.)\n",
    "        sln_c = np.sinh(n * np.pi * (2 - y) / 2.)\n",
    "        sln_d = np.sinh(n * np.pi) * (n * np.pi)**3\n",
    "        un = (sln_a * sln_b * sln_c) / sln_d\n",
    "        u += un\n",
    "        n += 1\n",
    "        if (n > 10) and abs(un / u) < tol:\n",
    "            return u\n",
    "    return u\n",
    "\n",
    "\n",
    "uE = 0 * V[:, 0]\n",
    "for i, vi in enumerate(V):\n",
    "    uE[i] = exact(vi[0], vi[1])\n",
    "    \n",
    "    \n",
    "muL = np.mean(uL[E], 1)\n",
    "muQ = np.mean(uQ[E], 1)\n",
    "muE = np.mean(uE[E], 1)\n",
    "eA = np.array([ getArea(*V[ei]) for ei in E])\n",
    "errL = np.sqrt(np.sum(np.abs( eA * (muL - muE)**2 )))\n",
    "errQ = np.sqrt(np.sum(np.abs( eA * (muQ - muE)**2 )))\n",
    "print( 'Error Linear:    ', round(errL, 6) )\n",
    "print( 'Error Quadratic: ', round(errQ, 6) )"
   ]
  },
  {
   "cell_type": "code",
   "execution_count": null,
   "metadata": {
    "collapsed": true
   },
   "outputs": [],
   "source": []
  },
  {
   "cell_type": "code",
   "execution_count": null,
   "metadata": {
    "collapsed": true
   },
   "outputs": [],
   "source": []
  }
 ],
 "metadata": {
  "kernelspec": {
   "display_name": "Python 3",
   "language": "python",
   "name": "python3"
  },
  "language_info": {
   "codemirror_mode": {
    "name": "ipython",
    "version": 3
   },
   "file_extension": ".py",
   "mimetype": "text/x-python",
   "name": "python",
   "nbconvert_exporter": "python",
   "pygments_lexer": "ipython3",
   "version": "3.6.0"
  }
 },
 "nbformat": 4,
 "nbformat_minor": 2
}
