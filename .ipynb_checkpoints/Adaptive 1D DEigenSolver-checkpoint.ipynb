{
 "cells": [
  {
   "cell_type": "code",
   "execution_count": 1,
   "metadata": {
    "collapsed": true
   },
   "outputs": [],
   "source": [
    "import numpy as np\n",
    "from AdaptiveDEigenSolve import *\n",
    "import matplotlib.pyplot as plt\n",
    "np.set_printoptions(precision=3, suppress=True, linewidth=100, threshold=100)\n",
    "%matplotlib inline"
   ]
  },
  {
   "cell_type": "markdown",
   "metadata": {},
   "source": [
    "Solve 1D PDE for compact functions on an compact domain:"
   ]
  },
  {
   "cell_type": "code",
   "execution_count": 2,
   "metadata": {
    "scrolled": false
   },
   "outputs": [
    {
     "name": "stdout",
     "output_type": "stream",
     "text": [
      "Iteration 0:\t0.993690\t0.983058\n",
      "Mean Error: \t-3.457996\n",
      "\n",
      "Iteration 1:\t0.999826\t0.998685\n",
      "Mean Error: \t-4.245874\n",
      "\n",
      "Iteration 2:\t0.999997\t0.999913\n",
      "Mean Error: \t-5.322989\n",
      "\n",
      "Iteration 3:\t1.000000\t0.999994\n",
      "Mean Error: \t-6.373762\n",
      "\n",
      "Iteration 4:\t1.000000\t0.999993\n",
      "Mean Error: \t-6.134727\n",
      "\n",
      "Iteration 5:\t1.000000\t0.999997\n",
      "Mean Error: \t-6.357335\n",
      "\n",
      "Eigenvalue:  1.0\n"
     ]
    },
    {
     "data": {
      "image/png": "[encoded data removed]",
      "text/plain": [
       "<matplotlib.figure.Figure at 0x11906f890>"
      ]
     },
     "metadata": {},
     "output_type": "display_data"
    }
   ],
   "source": [
    "# Define an operator, should operate on a function space:\n",
    "L = lambda phi: phi.BC( -phi.D(2) + phi.F(lambda x: x**2) )\n",
    "\n",
    "# Call the adaptive solver:\n",
    "w, vr, vi = adaptiveSolver(L, l=-25, u=25, sigma=1.0, verbose=True, tol=1e-6)\n",
    "\n",
    "# Print the eigenvalue and plot the eigenfunction:\n",
    "print 'Eigenvalue: ', round(w, 3)\n",
    "\n",
    "x = np.linspace(-10, 10, 1000)\n",
    "plt.title('Solution')\n",
    "plt.plot(x, vr(x))\n",
    "plt.show()"
   ]
  },
  {
   "cell_type": "code",
   "execution_count": 3,
   "metadata": {},
   "outputs": [
    {
     "name": "stdout",
     "output_type": "stream",
     "text": [
      "Iteration 0:\t98.999928\t98.993606\n",
      "Mean Error: \t-4.667745\n",
      "\n",
      "Iteration 1:\t98.999999\t98.999756\n",
      "Mean Error: \t-6.174333\n",
      "\n",
      "Iteration 2:\t99.000000\t99.000032\n",
      "Mean Error: \t-6.469050\n",
      "\n",
      "Iteration 3:\t99.000000\t98.999828\n",
      "Mean Error: \t-6.383163\n",
      "\n",
      "Iteration 4:\t99.000000\t98.999779\n",
      "Mean Error: \t-6.268092\n",
      "\n",
      "Iteration 5:\t99.000000\t98.999774\n",
      "Mean Error: \t-6.228553\n",
      "\n",
      "Iteration 6:\t99.000000\t98.999769\n",
      "Mean Error: \t-6.262177\n",
      "\n",
      "Iteration 7:\t99.000000\t98.999769\n",
      "Mean Error: \t-6.280265\n",
      "\n",
      "Iteration 8:\t99.000000\t98.999769\n",
      "Mean Error: \t-6.285503\n",
      "\n",
      "Eigenvalue:  99.0\n"
     ]
    },
    {
     "data": {
      "image/png": "[encoded data removed]",
      "text/plain": [
       "<matplotlib.figure.Figure at 0x11192a450>"
      ]
     },
     "metadata": {},
     "output_type": "display_data"
    }
   ],
   "source": [
    "# Define an operator, should operate on a function space:\n",
    "def L(phi):\n",
    "    Lop  = phi.F(lambda x: x**2 - 1        ) * phi.D(2)\n",
    "    Lop += phi.F(lambda x: (3*x) - (1.0/x) ) * phi.D(1)\n",
    "    Lop += phi.F(lambda x: 1.0 / (x**2)    ) * phi.I()\n",
    "    return phi.BC(Lop, right=None)\n",
    "\n",
    "# Call the adaptive solver:\n",
    "w, vr, vi = adaptiveSolver(L, l=1e-25, u=1.0, sigma=100.0, verbose=True, tol=1e-6)\n",
    "\n",
    "# Print the eigenvalue and plot the eigenfunction:\n",
    "print 'Eigenvalue: ', round(w, 3)\n",
    "\n",
    "x = np.linspace(0.0, 1.0, 1000)\n",
    "plt.title('Solution')\n",
    "plt.plot(x, vr(x))\n",
    "plt.show()"
   ]
  },
  {
   "cell_type": "code",
   "execution_count": null,
   "metadata": {
    "collapsed": true
   },
   "outputs": [],
   "source": []
  }
 ],
 "metadata": {
  "anaconda-cloud": {},
  "kernelspec": {
   "display_name": "Python [default]",
   "language": "python",
   "name": "python2"
  },
  "language_info": {
   "codemirror_mode": {
    "name": "ipython",
    "version": 2
   },
   "file_extension": ".py",
   "mimetype": "text/x-python",
   "name": "python",
   "nbconvert_exporter": "python",
   "pygments_lexer": "ipython2",
   "version": "2.7.13"
  }
 },
 "nbformat": 4,
 "nbformat_minor": 2
}
